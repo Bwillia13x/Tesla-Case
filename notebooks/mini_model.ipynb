{
 "cells": [
  {
   "cell_type": "markdown",
   "metadata": {},
   "source": [
    "# Tesla Case Study Analysis"
   ]
  },
  {
   "cell_type": "markdown",
   "metadata": {},
   "source": [
    "## 1. Load Data\n",
    "\n",
    "Load the `evidence.csv` file. While this specific data isn't directly used in the charts below, loading it is part of the requirements. The charts will use data extracted from the case study exhibits and text."
   ]
  },
  {
   "cell_type": "code",
   "execution_count": null,
   "metadata": {},
   "outputs": [],
   "source": [
    "import pandas as pd\n",
    "import matplotlib.pyplot as plt\n",
    "import numpy as np\n",
    "import os\n",
    "\n",
    "# Create fig directory if it doesn't exist\n",
    "if not os.path.exists('../fig'):\n",
    "    os.makedirs('../fig')\n",
    "\n",
    "evidence_df = pd.read_csv('../output/evidence.csv')\n",
    "print(\"Evidence data loaded successfully.\")\n",
    "evidence_df.head()"
   ]
  },
  {
   "cell_type": "markdown",
   "metadata": {},
   "source": [
    "## 2. Generate Charts"
   ]
  },
  {
   "cell_type": "markdown",
   "metadata": {},
   "source": [
    "### Chart 1: Tesla Model S Sales Comparison (Jan-June 2013)"
   ]
  },
  {
   "cell_type": "code",
   "execution_count": null,
   "metadata": {},
   "outputs": [],
   "source": [
    "sales_data = {\n",
    "    'Car Model': ['Tesla Model S', 'Nissan Leaf', 'BMW 5 Series (representative)'],\n",
    "    'Units Sold (Jan-June 2013)': [10500, 9839, 25891]\n",
    "}\n",
    "sales_df = pd.DataFrame(sales_data)\n",
    "\n",
    "plt.figure(figsize=(8, 6))\n",
    "bars = plt.bar(sales_df['Car Model'], sales_df['Units Sold (Jan-June 2013)'], color=['#CC0000', '#00A0B0', '#6A4A3C'])\n",
    "plt.ylabel('Units Sold')\n",
    "plt.title('U.S. Sales Comparison (Jan-June 2013) - Source: Exhibit 9')\n",
    "plt.xticks(rotation=15, ha='right')\n",
    "for bar in bars:\n",
    "    yval = bar.get_height()\n",
    "    plt.text(bar.get_x() + bar.get_width()/2.0, yval + 500, int(yval), va='bottom', ha='center') # Add labels\n",
    "plt.tight_layout()\n",
    "sales_chart_path = '../fig/sales_comparison.png'\n",
    "plt.savefig(sales_chart_path)\n",
    "plt.show()\n",
    "print(f\"Sales comparison chart saved to {sales_chart_path}\")"
   ]
  },
  {
   "cell_type": "markdown",
   "metadata": {},
   "source": [
    "**Explanation:** This bar chart compares the U.S. sales of the Tesla Model S to the Nissan Leaf (another EV) and the BMW 5 Series (representing a key competitor in the luxury sedan segment) for the first half of 2013. The data is sourced from Exhibit 9 of the case study. It highlights Tesla's competitive position in terms of sales volume during this period."
   ]
  },
  {
   "cell_type": "markdown",
   "metadata": {},
   "source": [
    "### Chart 2: Estimated Li-Ion Battery Cost Trend (Indexed)"
   ]
  },
  {
   "cell_type": "code",
   "execution_count": null,
   "metadata": {},
   "outputs": [],
   "source": [
    "years = np.array([2009, 2010, 2011, 2012])\n",
    "cost_index = np.array([100, 90, 81, 72.9]) # Assuming 10% decrease per year, 2009=100\n",
    "\n",
    "plt.figure(figsize=(8, 5))\n",
    "plt.plot(years, cost_index, marker='o', linestyle='-')\n",
    "plt.xlabel('Year')\n",
    "plt.ylabel('Indexed Cost (2009=100)')\n",
    "plt.title('Estimated Li-Ion Battery Cost Trend (10% Annual Decrease)')\n",
    "plt.xticks(years)\n",
    "plt.grid(True, which='both', linestyle='--', linewidth=0.5)\n",
    "plt.tight_layout()\n",
    "battery_cost_chart_path = '../fig/battery_cost_trend.png'\n",
    "plt.savefig(battery_cost_chart_path)\n",
    "plt.show()\n",
    "print(f\"Battery cost trend chart saved to {battery_cost_chart_path}\")"
   ]
  },
  {
   "cell_type": "markdown",
   "metadata": {},
   "source": [
    "**Explanation:** This line chart illustrates the estimated trend of Li-Ion battery costs between 2009 and 2012. Based on information from the case study (page 4: \"Costs decreased by about 10% per year between 2009 and 2012\"), the chart uses an indexed cost starting at 100 in 2009 and decreasing by 10% annually. This highlights the significant cost reduction in a key component for electric vehicles."
   ]
  },
  {
   "cell_type": "markdown",
   "metadata": {},
   "source": [
    "### Chart 3: Estimated Cost Structure of a Conventional IC Car (as % of Price)"
   ]
  },
  {
   "cell_type": "code",
   "execution_count": null,
   "metadata": {},
   "outputs": [],
   "source": [
    "ic_car_costs = {\n",
    "    'Component': [\n",
    "        'Materials and parts',\n",
    "        'Mfg & assembly cost',\n",
    "        'Maintenance & operations',\n",
    "        'R&D',\n",
    "        'Depreciation & Amortization',\n",
    "        'Warranty',\n",
    "        'General & Admin (Assumed)',\n",
    "        'Transport',\n",
    "        'Marketing & Sales',\n",
    "        'Net profit & tax (Manuf.)',\n",
    "        'Dealer gross margin'\n",
    "    ],\n",
    "    'Percentage': [50, 10, 8, 7, 5, 2, 2, 2, 5, 4, 5] # Assumed G&A is 2% to sum to 100%\n",
    "}\n",
    "ic_car_df = pd.DataFrame(ic_car_costs)\n",
    "\n",
    "plt.figure(figsize=(10, 8))\n",
    "plt.pie(ic_car_df['Percentage'], labels=ic_car_df['Component'], autopct='%1.1f%%', startangle=140, pctdistance=0.85)\n",
    "plt.title('Estimated Cost Structure of a Conventional IC Car (% of Price) - Source: Exhibit 1')\n",
    "plt.axis('equal') # Equal aspect ratio ensures that pie is drawn as a circle.\n",
    "plt.tight_layout()\n",
    "ic_car_cost_chart_path = '../fig/ic_car_cost_structure.png'\n",
    "plt.savefig(ic_car_cost_chart_path)\n",
    "plt.show()\n",
    "print(f\"IC car cost structure chart saved to {ic_car_cost_chart_path}\")"
   ]
  },
  {
   "cell_type": "markdown",
   "metadata": {},
   "source": [
    "**Explanation:** This pie chart displays the estimated cost structure of a typical $25,000 internal combustion (IC) engine car, as a percentage of its final price. The data is based on Exhibit 1 of the case study. 'General & Admin' has been assumed to be 2% to ensure the components sum to 100%, as this value was not explicitly provided for that line item in the OCR text of the exhibit. This visualization helps understand the various cost components and profit margins involved in a conventional car."
   ]
  },
  {
   "cell_type": "markdown",
   "metadata": {},
   "source": [
    "## 3. Embed Charts"
   ]
  },
  {
   "cell_type": "markdown",
   "metadata": {},
   "source": [
    "### Sales Comparison (Jan-June 2013)\n",
    "\n",
    "![Sales Comparison](../fig/sales_comparison.png)"
   ]
  },
  {
   "cell_type": "markdown",
   "metadata": {},
   "source": [
    "### Estimated Li-Ion Battery Cost Trend (Indexed)\n",
    "\n",
    "![Battery Cost Trend](../fig/battery_cost_trend.png)"
   ]
  },
  {
   "cell_type": "markdown",
   "metadata": {},
   "source": [
    "### Estimated Cost Structure of a Conventional IC Car\n",
    "\n",
    "![IC Car Cost Structure](../fig/ic_car_cost_structure.png)"
   ]
  },
  {
   "cell_type": "markdown",
   "metadata": {},
   "source": [
    "Notebook execution complete. All charts generated, saved, and embedded."
   ]
  }
 ],
 "metadata": {
  "kernelspec": {
   "display_name": "Python 3",
   "language": "python",
   "name": "python3"
  },
  "language_info": {
   "codemirror_mode": {
    "name": "ipython",
    "version": 3
   },
   "file_extension": ".py",
   "mimetype": "text/x-python",
   "name": "python",
   "nbconvert_exporter": "python",
   "pygments_lexer": "ipython3",
   "version": "3.10.12"
  }
 },
 "nbformat": 4,
 "nbformat_minor": 5
}
